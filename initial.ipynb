{
 "cells": [
  {
   "cell_type": "markdown",
   "metadata": {},
   "source": [
    "Michael Ricardo DS 2500 Project Trading torch"
   ]
  },
  {
   "cell_type": "code",
   "execution_count": 59,
   "metadata": {},
   "outputs": [],
   "source": [
    "from datetime import datetime, timedelta\n",
    "import yfinance as yf\n",
    "import pandas as pd\n",
    "import numpy as np\n",
    "import pandas_ta as ta"
   ]
  },
  {
   "cell_type": "code",
   "execution_count": 60,
   "metadata": {},
   "outputs": [],
   "source": [
    "def fetch_ticker_data(ticker, years_ago= 10):\n",
    "    \"\"\"\n",
    "    Gets the market data for a given date and ticker.\n",
    "    Fetches from yfinance library.\n",
    "\n",
    "    Args:\n",
    "        years ago (int): Representing the most recent day for stock entries \n",
    "        ticker(str): Representing the offical company stock ticker\n",
    "    Returns\n",
    "        df (DataFrame): DataFrame with Stock pricing data and history data\n",
    "    \"\"\"\n",
    "    most_recent = (datetime.today() - timedelta(days=1)).strftime('%Y-%m-%d')\n",
    "    start_date = '2014-12-01'\n",
    "    \n",
    "    \n",
    "    stock_data = yf.Ticker(ticker)\n",
    "    returning_data = stock_data.history(start = start_date, end= most_recent)\n",
    "\n",
    "    return returning_data"
   ]
  },
  {
   "cell_type": "code",
   "execution_count": null,
   "metadata": {},
   "outputs": [],
   "source": [
    "\n",
    "\n",
    "\n"
   ]
  },
  {
   "cell_type": "code",
   "execution_count": 61,
   "metadata": {},
   "outputs": [
    {
     "data": {
      "text/plain": [
       "\"\\n#13 week, 5 year, and 10 year indexes, will be going by their tickers for this project\\ntickers = ['^IRX', '^FVX', '^TNX']\\ndf_master_bonds = pd.DataFrame()\\nfor ticker in tickers:\\n    data = fetch_ticker_data(ticker)\\n    data = data.drop(columns=['Open', 'Dividends', 'Stock Splits', 'Volume'])\\n    data.index = pd.to_datetime(data.index).normalize()\\n    df_master_bonds[f'High_{ticker}'] = data['High']\\n    df_master_bonds[f'Low_{ticker}'] = data['Low']\\n    df_master_bonds[f'Close_{ticker}'] = data['Close']\\n\""
      ]
     },
     "execution_count": 61,
     "metadata": {},
     "output_type": "execute_result"
    }
   ],
   "source": [
    "'''\n",
    "#13 week, 5 year, and 10 year indexes, will be going by their tickers for this project\n",
    "tickers = ['^IRX', '^FVX', '^TNX']\n",
    "df_master_bonds = pd.DataFrame()\n",
    "for ticker in tickers:\n",
    "    data = fetch_ticker_data(ticker)\n",
    "    data = data.drop(columns=['Open', 'Dividends', 'Stock Splits', 'Volume'])\n",
    "    data.index = pd.to_datetime(data.index).normalize()\n",
    "    df_master_bonds[f'High_{ticker}'] = data['High']\n",
    "    df_master_bonds[f'Low_{ticker}'] = data['Low']\n",
    "    df_master_bonds[f'Close_{ticker}'] = data['Close']\n",
    "'''"
   ]
  },
  {
   "cell_type": "code",
   "execution_count": 62,
   "metadata": {},
   "outputs": [],
   "source": [
    "#Data for the IRX\n",
    "ticker = '^IRX'\n",
    "IRX_data = fetch_ticker_data(ticker)\n",
    "IRX_data = IRX_data.drop(columns=['Open','Dividends', 'Stock Splits', 'Volume'])\n",
    "IRX_data.index = pd.to_datetime(IRX_data.index).date"
   ]
  },
  {
   "cell_type": "code",
   "execution_count": 63,
   "metadata": {},
   "outputs": [],
   "source": [
    "#Data for the FVX\n",
    "ticker = '^FVX'\n",
    "FVX_data = fetch_ticker_data(ticker)\n",
    "FVX_data = FVX_data.drop(columns=['Open','Dividends', 'Stock Splits', 'Volume'])\n",
    "FVX_data.index = pd.to_datetime(FVX_data.index).date"
   ]
  },
  {
   "cell_type": "code",
   "execution_count": 64,
   "metadata": {},
   "outputs": [],
   "source": [
    "#Data for the TNX\n",
    "ticker = '^TNX'\n",
    "TNX_data = fetch_ticker_data(ticker)\n",
    "TNX_data = TNX_data.drop(columns=['Open','Dividends', 'Stock Splits', 'Volume'])\n",
    "TNX_data.index = pd.to_datetime(TNX_data.index).date"
   ]
  },
  {
   "cell_type": "markdown",
   "metadata": {},
   "source": [
    "Adding variables not related to security itself: "
   ]
  },
  {
   "cell_type": "code",
   "execution_count": 65,
   "metadata": {},
   "outputs": [],
   "source": [
    "#Data for the S&P 500 & VIX, these will be used as variables \n",
    "ticker = '^GSPC'\n",
    "SP500_data = fetch_ticker_data(ticker)\n",
    "SP500_data = SP500_data.drop(columns=['Open', 'High', 'Low', 'Dividends', 'Stock Splits', 'Volume'])\n",
    "SP500_data.index = SP500_data.index.tz_convert('UTC')\n",
    "\n",
    "ticker = '^VIX'\n",
    "VIX_data = fetch_ticker_data(ticker)\n",
    "VIX_data = VIX_data.drop(columns=['Open', 'High', 'Low', 'Dividends', 'Stock Splits', 'Volume'])\n",
    "VIX_data.index = VIX_data.index.tz_convert(\"UTC\")"
   ]
  },
  {
   "cell_type": "code",
   "execution_count": 66,
   "metadata": {},
   "outputs": [],
   "source": [
    "def external_csv(csv):\n",
    "    '''\n",
    "    Pulling in a csv, setting the 'Date column as the index and making it a proper datetime object\n",
    "    Args:\n",
    "        csv (CSV) - Data collection with Date column along with pricing data \n",
    "    Returns\n",
    "        df (DataFrame): DataFrame     \n",
    "    '''\n",
    "    csv_read = pd.read_csv(csv)\n",
    "    csv_read['Date'] = csv_read['Date'].str.replace('/', '-')\n",
    "    csv_read['Date'] = pd.to_datetime(csv_read['Date'])\n",
    "    csv_read = csv_read.set_index('Date')\n",
    "\n",
    "    return csv_read"
   ]
  },
  {
   "cell_type": "code",
   "execution_count": 67,
   "metadata": {},
   "outputs": [],
   "source": [
    "#CPI data CSV\n",
    "cpi_csv = 'CPI_Data_10.csv'\n",
    "cpi = external_csv(cpi_csv)\n"
   ]
  },
  {
   "cell_type": "code",
   "execution_count": 68,
   "metadata": {},
   "outputs": [],
   "source": [
    "#Data for the 1 year Treasury Bill (Pulled in via CSV)\n",
    "one_year_csv = '1year_bond_master.csv'\n",
    "one_year_data = external_csv(one_year_csv)\n",
    "one_year_data = one_year_data.drop(columns='Open')"
   ]
  },
  {
   "cell_type": "code",
   "execution_count": 69,
   "metadata": {},
   "outputs": [],
   "source": [
    "#Further cleaning needed for the 1 year, flipping the rows, eliminating % sign within each\n",
    "one_year_data = one_year_data.iloc[::-1] \n",
    "\n",
    "titles = ['High', 'Low','Close']\n",
    "for title in titles:\n",
    "    one_year_data[title] = one_year_data[title].str.replace('%', '')"
   ]
  },
  {
   "cell_type": "markdown",
   "metadata": {},
   "source": [
    "Section will be for data curration and preperation for regression "
   ]
  },
  {
   "cell_type": "code",
   "execution_count": null,
   "metadata": {},
   "outputs": [],
   "source": [
    "def security_editor(df):\n",
    "    \"\"\"\n",
    "    Gaining volatility and moving index metrics from the bond in question. Yield Volatilioty represents the historical volatility for a treasury over a given\n",
    "    time though its Standerd deviation. Simple moving average measures the average closing price for a week & month of a security. \n",
    "\n",
    "    Args:\n",
    "        df (dataframe): Specific secuity df imported with Close, Volume, High, and Low data for each day of market activity \n",
    "    Returns\n",
    "        df(dataframe): Added ATR. SMA_7 and SMA_30 cols for given securuity. Removing high and low cols\n",
    "    \"\"\"\n",
    "    df['Yield_STDEV'] = ta.stdev(df['Close'], length = 14)\n",
    "    df = df.drop(columns=['High', 'Low'])\n",
    " \n",
    "    df['SMA_7'] = ta.sma(df['Close'], length=10) \n",
    "    df['SMA_30'] = ta.sma(df['Close'], length=50)\n",
    "\n",
    "    return df"
   ]
  },
  {
   "cell_type": "code",
   "execution_count": 71,
   "metadata": {},
   "outputs": [
    {
     "name": "stdout",
     "output_type": "stream",
     "text": [
      "            Close  Yield_STDEV   SMA_7   SMA_30\n",
      "2015-02-11  1.988     0.106079  1.8356  2.01794\n",
      "2015-02-12  1.986     0.114389  1.8591  2.01330\n",
      "2015-02-13  2.021     0.124403  1.8937  2.00802\n",
      "2015-02-17  2.145     0.146688  1.9409  2.00518\n",
      "2015-02-18  2.066     0.148306  1.9695  2.00136\n",
      "...           ...          ...     ...      ...\n",
      "2024-11-21  4.432     0.057928  4.3974  4.09002\n",
      "2024-11-22  4.410     0.054405  4.4078  4.10522\n",
      "2024-11-25  4.265     0.058041  4.4035  4.11810\n",
      "2024-11-26  4.302     0.060994  4.3905  4.13130\n",
      "2024-11-27  4.242     0.070597  4.3696  4.14244\n",
      "\n",
      "[2466 rows x 4 columns]\n"
     ]
    }
   ],
   "source": [
    "TNX_data_refined = security_editor(TNX_data).dropna()\n",
    "print(TNX_data_refined)"
   ]
  },
  {
   "cell_type": "code",
   "execution_count": null,
   "metadata": {},
   "outputs": [],
   "source": [
    "'''\n",
    "def security_combine(df_main, df1, df2):\n",
    "    \"\"\"\n",
    "    Combining the data from other indexes to be used as variabels\n",
    "    Args:\n",
    "        df_main (dataframe): Main secuirty which will have the others cols added\n",
    "        df_1 (dataframe): Sub index which will be added to df_main, will be used for S&P 500\n",
    "        df_2 (dataframe): Sub index which will be added to df_main, will be used for VIx \n",
    "    Returns:\n",
    "        df_mained: Combined df_main with df1 & df2\n",
    "    \"\"\"\n",
    "\n",
    "    df1 = df1.reindex(df_main.index, method='nearest')  # Align S&P 500 data\n",
    "    df2 = df2.reindex(df_main.index, method='nearest')  # Align VIX data\n",
    "    \n",
    "    df_main = pd.merge(df_main, df1.rename(columns={\"Close\": \"S&P 500 Data\"}), \n",
    "                       left_index=True, right_index=True, how=\"outer\")\n",
    "\n",
    "    # Add VIX Data\n",
    "    df_main = pd.merge(df_main, df2.rename(columns={\"Close\": \"VIX\"}), \n",
    "                       left_index=True, right_index=True, how=\"outer\")\n",
    "    \n",
    "    return df_main\n",
    "'''"
   ]
  },
  {
   "cell_type": "code",
   "execution_count": null,
   "metadata": {},
   "outputs": [],
   "source": []
  },
  {
   "cell_type": "code",
   "execution_count": null,
   "metadata": {},
   "outputs": [],
   "source": [
    "def line_of_best_fit(X, y):\n",
    "    \"\"\" \n",
    "    Finds line of best fit based off of a set of vectors\n",
    "    Args:\n",
    "        X (array): can be either 1-d or 2-d\n",
    "        Y (array): can be either 1-d or 2-d\n",
    "    Returns:\n",
    "        p (array): 1d array, giving line and slope\n",
    "    \"\"\"\n",
    "\n",
    "    if X.ndim == 1:\n",
    "        X = add_bias_column(X).T\n",
    "    else:\n",
    "        X = X.T\n",
    "    XTXinv = np.linalg.inv(np.matmul(X, X.T))\n",
    "    p = np.matmul(XTXinv, np.matmul(X, y))\n",
    "    return p\n",
    "\n",
    "    "
   ]
  },
  {
   "cell_type": "markdown",
   "metadata": {},
   "source": [
    "Regressions:"
   ]
  }
 ],
 "metadata": {
  "kernelspec": {
   "display_name": "Python 3",
   "language": "python",
   "name": "python3"
  },
  "language_info": {
   "codemirror_mode": {
    "name": "ipython",
    "version": 3
   },
   "file_extension": ".py",
   "mimetype": "text/x-python",
   "name": "python",
   "nbconvert_exporter": "python",
   "pygments_lexer": "ipython3",
   "version": "3.12.1"
  }
 },
 "nbformat": 4,
 "nbformat_minor": 2
}
