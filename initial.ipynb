{
 "cells": [
  {
   "cell_type": "markdown",
   "metadata": {},
   "source": [
    "Michael Ricardo DS 2500 Project Trading torch"
   ]
  },
  {
   "cell_type": "code",
   "execution_count": null,
   "metadata": {},
   "outputs": [],
   "source": [
    "from datetime import datetime, timedelta\n",
    "import yfinance as yf\n",
    "import pandas as pd\n",
    "import numpy as np\n",
    "import pandas_ta as ta"
   ]
  },
  {
   "cell_type": "code",
   "execution_count": 34,
   "metadata": {},
   "outputs": [],
   "source": [
    "def fetch_ticker_data(ticker, years_ago= 5):\n",
    "    \"\"\"\n",
    "    Gets the market data for a given date and ticker.\n",
    "    Fetches from yfinance library.\n",
    "\n",
    "    Args:\n",
    "        years ago (int): Representing the most recent day for stock entries \n",
    "        ticker(str): Representing the offical company stock ticker\n",
    "    Returns\n",
    "        df (DataFrame): DataFrame with Stock pricing data and history data\n",
    "    \"\"\"\n",
    "    most_recent = (datetime.today() - timedelta(days=1)).strftime('%Y-%m-%d')\n",
    "    five_years_ago = (datetime.today() - timedelta(days= years_ago * 365)).strftime('%Y-%m-%d') \n",
    "    \n",
    "    \n",
    "    stock_data = yf.Ticker(ticker)\n",
    "    returning_data = stock_data.history(start = five_years_ago, end= most_recent)\n",
    "    \n",
    "    return returning_data"
   ]
  },
  {
   "cell_type": "code",
   "execution_count": 35,
   "metadata": {},
   "outputs": [],
   "source": [
    "ticker = 'DIS'\n",
    "dis_data = fetch_ticker_data(ticker)\n",
    "dis_data = dis_data.drop(columns=['Open', 'High', 'Low', 'Dividends', 'Stock Splits'  ])"
   ]
  },
  {
   "cell_type": "markdown",
   "metadata": {},
   "source": [
    "Adding variables not related to security itself: "
   ]
  },
  {
   "cell_type": "code",
   "execution_count": 36,
   "metadata": {},
   "outputs": [],
   "source": [
    "#Data for the S&P 500 \n",
    "ticker = '^GSPC'\n",
    "SP500_data = fetch_ticker_data(ticker)\n",
    "SP500_data = SP500_data.drop(columns=['Open', 'High', 'Low', 'Dividends', 'Stock Splits'  ])"
   ]
  },
  {
   "cell_type": "code",
   "execution_count": 37,
   "metadata": {},
   "outputs": [],
   "source": [
    "#CBOE Volatility Index (VIX)\n",
    "ticker = '^VIX'\n",
    "VIX_data = fetch_ticker_data(ticker)\n",
    "VIX_data = VIX_data.drop(columns=['Open', 'High', 'Low', 'Dividends', 'Stock Splits', 'Volume'])"
   ]
  },
  {
   "cell_type": "markdown",
   "metadata": {},
   "source": [
    "Section will be for data curration and preperation for regression "
   ]
  },
  {
   "cell_type": "code",
   "execution_count": 38,
   "metadata": {},
   "outputs": [],
   "source": [
    "def security_editor(df):\n",
    "    \"\"\"\n",
    "    EXPLANATION\n",
    "\n",
    "    Args:\n",
    "        \n",
    "    Returns\n",
    "        \n",
    "    \"\"\"\n",
    "    df['Returns'] = df['Close'].pct_change() * 100\n",
    "    df['Next Day Returns'] = df['Returns'].shift(-1)\n",
    "\n",
    "    return df"
   ]
  },
  {
   "cell_type": "code",
   "execution_count": 39,
   "metadata": {},
   "outputs": [
    {
     "name": "stdout",
     "output_type": "stream",
     "text": [
      "                                Close    Volume   Returns  Next Day Returns\n",
      "Date                                                                       \n",
      "2019-11-27 00:00:00-05:00  149.399445   6155400       NaN          0.066020\n",
      "2019-11-29 00:00:00-05:00  149.498077   6284900  0.066020         -0.633335\n",
      "2019-12-02 00:00:00-05:00  148.551254  10351000 -0.633335         -1.354390\n",
      "2019-12-03 00:00:00-05:00  146.539291   9273800 -1.354390         -0.201924\n",
      "2019-12-04 00:00:00-05:00  146.243393   7684800 -0.201924         -0.566494\n",
      "...                               ...       ...       ...               ...\n",
      "2024-11-18 00:00:00-05:00  113.540001  14236600 -1.338200         -0.986439\n",
      "2024-11-19 00:00:00-05:00  112.419998  12166800 -0.986439          1.636723\n",
      "2024-11-20 00:00:00-05:00  114.260002   9319300  1.636723          0.402590\n",
      "2024-11-21 00:00:00-05:00  114.720001  10261000  0.402590          0.810670\n",
      "2024-11-22 00:00:00-05:00  115.650002  10093700  0.810670               NaN\n",
      "\n",
      "[1256 rows x 4 columns]\n"
     ]
    }
   ],
   "source": [
    "dis_refined = security_editor(dis_data)\n",
    "print(dis_refined)"
   ]
  }
 ],
 "metadata": {
  "kernelspec": {
   "display_name": ".venv",
   "language": "python",
   "name": "python3"
  },
  "language_info": {
   "codemirror_mode": {
    "name": "ipython",
    "version": 3
   },
   "file_extension": ".py",
   "mimetype": "text/x-python",
   "name": "python",
   "nbconvert_exporter": "python",
   "pygments_lexer": "ipython3",
   "version": "3.12.1"
  }
 },
 "nbformat": 4,
 "nbformat_minor": 2
}
