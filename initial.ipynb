{
 "cells": [
  {
   "cell_type": "markdown",
   "metadata": {},
   "source": [
    "Michael Ricardo DS 2500 Project Trading torch"
   ]
  },
  {
   "cell_type": "code",
   "execution_count": 2,
   "metadata": {},
   "outputs": [],
   "source": [
    "from datetime import datetime, timedelta\n",
    "import yfinance as yf\n",
    "import pandas as pd\n",
    "import numpy as np"
   ]
  },
  {
   "cell_type": "code",
   "execution_count": 3,
   "metadata": {},
   "outputs": [],
   "source": [
    "def fetch_ticker_data(ticker, years_ago= 5):\n",
    "    \"\"\"\n",
    "    Gets the market data for a given date and ticker.\n",
    "    Fetches from yfinance library.\n",
    "\n",
    "    Args:\n",
    "        years ago (int): Representing the most recent day for stock entries \n",
    "        ticker(str): Representing the offical company stock ticker\n",
    "    Returns\n",
    "        df (DataFrame): DataFrame with Stock pricing data and history data\n",
    "    \"\"\"\n",
    "    most_recent = (datetime.today() - timedelta(days=1)).strftime('%Y-%m-%d')\n",
    "    five_years_ago = (datetime.today() - timedelta(days= years_ago * 365)).strftime('%Y-%m-%d') \n",
    "    \n",
    "    \n",
    "    stock_data = yf.Ticker(ticker)\n",
    "    returning_data = stock_data.history(start = five_years_ago, end= most_recent)\n",
    "    \n",
    "    return returning_data"
   ]
  },
  {
   "cell_type": "code",
   "execution_count": null,
   "metadata": {},
   "outputs": [
    {
     "name": "stdout",
     "output_type": "stream",
     "text": [
      "                                Close    Volume\n",
      "Date                                           \n",
      "2019-11-27 00:00:00-05:00  149.399445   6155400\n",
      "2019-11-29 00:00:00-05:00  149.498077   6284900\n",
      "2019-12-02 00:00:00-05:00  148.551254  10351000\n",
      "2019-12-03 00:00:00-05:00  146.539291   9273800\n",
      "2019-12-04 00:00:00-05:00  146.243393   7684800\n",
      "...                               ...       ...\n",
      "2024-11-18 00:00:00-05:00  113.540001  14236600\n",
      "2024-11-19 00:00:00-05:00  112.419998  12166800\n",
      "2024-11-20 00:00:00-05:00  114.260002   9319300\n",
      "2024-11-21 00:00:00-05:00  114.720001  10261000\n",
      "2024-11-22 00:00:00-05:00  115.650002  10093700\n",
      "\n",
      "[1256 rows x 2 columns]\n"
     ]
    }
   ],
   "source": [
    "ticker = 'DIS'\n",
    "dis_data = fetch_ticker_data(ticker)\n",
    "dis_data = dis_data.drop(columns=['Open', 'High', 'Low', 'Dividends', 'Stock Splits'  ])\n",
    "\n",
    "print(dis_data)"
   ]
  },
  {
   "cell_type": "markdown",
   "metadata": {},
   "source": [
    "Adding variables not related to security itself: "
   ]
  },
  {
   "cell_type": "code",
   "execution_count": null,
   "metadata": {},
   "outputs": [
    {
     "name": "stdout",
     "output_type": "stream",
     "text": [
      "                                 Close      Volume\n",
      "Date                                              \n",
      "2019-11-27 00:00:00-05:00  3153.629883  3035470000\n",
      "2019-11-29 00:00:00-05:00  3140.979980  1743420000\n",
      "2019-12-02 00:00:00-05:00  3113.870117  3285750000\n",
      "2019-12-03 00:00:00-05:00  3093.199951  3671580000\n",
      "2019-12-04 00:00:00-05:00  3112.760010  3702980000\n",
      "...                                ...         ...\n",
      "2024-11-18 00:00:00-05:00  5893.620117  3983860000\n",
      "2024-11-19 00:00:00-05:00  5916.979980  4036940000\n",
      "2024-11-20 00:00:00-05:00  5917.109863  3772620000\n",
      "2024-11-21 00:00:00-05:00  5948.709961  4230120000\n",
      "2024-11-22 00:00:00-05:00  5969.339844  4141420000\n",
      "\n",
      "[1256 rows x 2 columns]\n"
     ]
    }
   ],
   "source": [
    "#Data for the S&P 500 \n",
    "ticker = '^GSPC'\n",
    "SP500_data = fetch_ticker_data(ticker)\n",
    "SP500_data = SP500_data.drop(columns=['Open', 'High', 'Low', 'Dividends', 'Stock Splits'  ])\n",
    "\n",
    "print(SP500_data)"
   ]
  }
 ],
 "metadata": {
  "kernelspec": {
   "display_name": ".venv",
   "language": "python",
   "name": "python3"
  },
  "language_info": {
   "codemirror_mode": {
    "name": "ipython",
    "version": 3
   },
   "file_extension": ".py",
   "mimetype": "text/x-python",
   "name": "python",
   "nbconvert_exporter": "python",
   "pygments_lexer": "ipython3",
   "version": "3.12.1"
  }
 },
 "nbformat": 4,
 "nbformat_minor": 2
}
